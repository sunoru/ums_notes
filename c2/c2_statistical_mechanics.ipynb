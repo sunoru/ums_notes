{
 "cells": [
  {
   "cell_type": "markdown",
   "metadata": {},
   "source": [
    "# Chapter 2. Statistical Mechanics"
   ]
  },
  {
   "cell_type": "markdown",
   "metadata": {},
   "source": [
    "## 2.3 Questions and Exercises"
   ]
  },
  {
   "cell_type": "markdown",
   "metadata": {},
   "source": [
    "### Question 1"
   ]
  },
  {
   "cell_type": "markdown",
   "metadata": {},
   "source": [
    "#### 1. $\\Omega, S_1, S_2, S$"
   ]
  },
  {
   "cell_type": "code",
   "execution_count": 23,
   "metadata": {
    "collapsed": false
   },
   "outputs": [
    {
     "name": "stdout",
     "output_type": "stream",
     "text": [
      "1.000000e+42\n",
      "46.05\n",
      "50.66\n",
      "96.71\n"
     ]
    }
   ],
   "source": [
    "import math\n",
    "Omega1, Omega2 = 10**20, 10**22\n",
    "Omega = Omega1 * Omega2\n",
    "S1, S2, S = map(math.log, (Omega1, Omega2, Omega))\n",
    "print(\"%e\\n%.2f\\n%.2f\\n%.2f\" % (Omega, S1, S2, S))"
   ]
  },
  {
   "cell_type": "markdown",
   "metadata": {},
   "source": [
    "#### 2. $\\mathrm{factor}=(\\frac{100001}{100000})^N=10^{1.0\\times10^{21}}$"
   ]
  },
  {
   "cell_type": "code",
   "execution_count": 20,
   "metadata": {
    "collapsed": false
   },
   "outputs": [
    {
     "name": "stdout",
     "output_type": "stream",
     "text": [
      "2.4144091940702113e+26\n",
      "1.0485593472600411e+21\n"
     ]
    }
   ],
   "source": [
    "beta = 1.0 / (1.3806e-23 * 300)\n",
    "N = 100 * 10e3 * beta\n",
    "print(N)\n",
    "print(N * math.log10(100001/100000))"
   ]
  },
  {
   "cell_type": "markdown",
   "metadata": {},
   "source": [
    "#### 3. $\\mathrm{factor} = \\frac{\\Omega_2}{\\Omega_1} = \\exp(\\Delta E\\beta) = 10^{1.6\\times 10^{25}}$"
   ]
  },
  {
   "cell_type": "code",
   "execution_count": 29,
   "metadata": {
    "collapsed": false
   },
   "outputs": [
    {
     "name": "stdout",
     "output_type": "stream",
     "text": [
      "1.5728468850617551e+25\n"
     ]
    }
   ],
   "source": [
    "print(150e3 * beta / math.log(10))"
   ]
  },
  {
   "cell_type": "markdown",
   "metadata": {},
   "source": [
    "#### 4.\n",
    "| 0$\\epsilon$ | 1$\\epsilon$ | 2$\\epsilon$ | 3$\\epsilon$ | 4$\\epsilon$ | 5$\\epsilon$ |\n",
    "|:---:|:---:|:---:|:---:|:---:|:---:|\n",
    "|4|0|0|0|0|1|\n",
    "|3|1|0|0|1|0|\n",
    "|3|0|1|1|0|0|\n",
    "|2|1|2|0|0|0|\n",
    "|2|2|0|1|0|0|\n",
    "|1|3|1|0|0|0|\n",
    "|0|5|0|0|0|0|\n",
    "\n",
    "The last configuration is the most probable."
   ]
  },
  {
   "cell_type": "markdown",
   "metadata": {
    "collapsed": true
   },
   "source": [
    "### Question 2\n",
    "$F=\\frac{-\\ln[Q(N,V,T)]}{\\beta} \\\\\n",
    "dU = TdS-PdV \\\\\n",
    "dF = -SdT-PdV \\\\\n",
    "\\beta = \\frac{1}{kT} \\\\\n",
    "S = -\\frac{\\partial F}{\\partial T} = k\\ln(Q)+kT\\frac{\\partial \\ln(Q)}{\\partial T} \\\\\n",
    "P = -\\frac{\\partial F}{\\partial V} = kT\\frac{\\partial \\ln(Q)}{\\partial V} \\\\\n",
    "U = F+TS = -kT\\ln(Q)+kT\\ln(Q)+kT^2\\frac{\\partial \\ln(Q)}{\\partial T} = kT^2\\frac{\\partial \\ln(Q)}{\\partial T}$"
   ]
  },
  {
   "cell_type": "markdown",
   "metadata": {},
   "source": [
    "### Question 3\n",
    "Given: $Q(N,V,T)=\\frac{1}{h^{3N}N!}\\int \\mathrm{d}\\Gamma\\exp(-\\beta H)=\\frac{V^N}{\\lambda^{3N}N!} \\\\\n",
    "\\lambda = h/\\sqrt{2\\pi m/\\beta}, \\mathrm{d}\\Gamma = \\mathrm{d}q_1\\ldots\\mathrm{d}q_N\\mathrm{d}p_1\\ldots\\mathrm{d}p_N$\n",
    "\n",
    "Calculate:"
   ]
  },
  {
   "cell_type": "markdown",
   "metadata": {},
   "source": [
    "$F(N,V,T)=\\frac{-\\ln[Q(N,V,T)]}{\\beta}=(-N\\ln(V)+3N\\ln(\\lambda)+(N\\ln(N)-N)) / \\beta\n",
    "= NkT[\\ln(\\frac{\\lambda^3 N}{V})-1]$"
   ]
  },
  {
   "cell_type": "markdown",
   "metadata": {},
   "source": [
    "$P(N,V,T)=-\\frac{\\partial F}{\\partial V} = \\frac{NkT}{V}$(ideal gas law)"
   ]
  },
  {
   "cell_type": "markdown",
   "metadata": {},
   "source": [
    "$\\mu(N,V,T)=\\frac{\\partial F}{\\partial N}=kT[\\ln(\\frac{\\lambda^3N}{V})-1]+kTN\\frac{1}{N}=kT\\ln(\\frac{\\lambda^3N}{V})=3kT\\ln(\\lambda)+kT\\ln(\\frac{N}{V})$\n",
    "(leads to $\\mu=\\mu_0+RTln\\rho$)"
   ]
  },
  {
   "cell_type": "markdown",
   "metadata": {},
   "source": [
    "$U(N,V,T)=kT^2\\frac{\\partial \\ln(Q)}{\\partial T}=-3NkT^2\\frac{\\partial \\ln(\\lambda)}{\\partial T}=\\frac{3NkT^2}{2T}=\\frac{3NkT}{2}$"
   ]
  },
  {
   "cell_type": "markdown",
   "metadata": {},
   "source": [
    "$S(N,V,T)=(F-U)/T=Nk[\\ln(\\frac{\\lambda^3N}{V})-\\frac{5}{2}]$"
   ]
  },
  {
   "cell_type": "markdown",
   "metadata": {},
   "source": [
    "$C_V=(\\frac{\\partial U}{\\partial T})_V=\\frac{3Nk}{2}$"
   ]
  },
  {
   "cell_type": "markdown",
   "metadata": {},
   "source": [
    "$C_P=(\\frac{\\partial H}{\\partial T})_P=(\\frac{\\partial (U+PV)}{\\partial T})_P=C_V+\\frac{\\partial(NkT)}{\\partial T}=\\frac{5Nk}{2}$"
   ]
  },
  {
   "cell_type": "markdown",
   "metadata": {
    "collapsed": true
   },
   "source": [
    "### Question 4\n",
    "Given Ising Model: $U=-\\sum_{i=1}^{N}H\\mu s_i - J\\sum_{i>j}s_is_j$"
   ]
  },
  {
   "cell_type": "markdown",
   "metadata": {},
   "source": [
    "#### 1. \n",
    "For positive $J$, and $H=0$, the lowest energy of the Ising model is equal to $U_0=-DNJ$. Because the interactions are only in the nearest paris."
   ]
  },
  {
   "cell_type": "markdown",
   "metadata": {
    "collapsed": true
   },
   "source": [
    "#### 2.\n",
    "$Q = \\sum_i{e^{-\\beta E_i}} = \\sum_{\\{s_1,s_2,\\ldots,s_N\\}}{e^{\\beta J(s_1s_2+s_2s_3+\\dots+s_{N-1}s_N)}}=\\sum_{\\{s_1,s_2,\\ldots,s_N\\}}\\prod_i{e^{\\beta Js_is_{i+1}}}=\\prod_{i=1}^{N}\\sum_{p_i=\\pm1}e^{\\beta Jp_i}$"
   ]
  },
  {
   "cell_type": "markdown",
   "metadata": {},
   "source": [
    "$=(2\\cosh(\\beta J))^N$"
   ]
  },
  {
   "cell_type": "markdown",
   "metadata": {},
   "source": [
    "$\\frac{F(\\beta, N)}{N}=-\\frac{\\ln{Q}}{\\beta N}=-\\frac{2\\cosh(\\beta J)}{\\beta}$"
   ]
  },
  {
   "cell_type": "code",
   "execution_count": null,
   "metadata": {
    "collapsed": true
   },
   "outputs": [],
   "source": []
  }
 ],
 "metadata": {
  "kernelspec": {
   "display_name": "Python 3",
   "language": "python",
   "name": "python3"
  },
  "language_info": {
   "codemirror_mode": {
    "name": "ipython",
    "version": 3
   },
   "file_extension": ".py",
   "mimetype": "text/x-python",
   "name": "python",
   "nbconvert_exporter": "python",
   "pygments_lexer": "ipython3",
   "version": "3.4.3"
  }
 },
 "nbformat": 4,
 "nbformat_minor": 0
}
