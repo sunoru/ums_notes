{
 "cells": [
  {
   "cell_type": "markdown",
   "metadata": {},
   "source": [
    "Use\n",
    "$U^{\\mathrm{tot}}=\\sum_{i<j}{u_c(r_{ij})+\\frac{N\\rho}{2}\\int^\\infty_{r_c}{\\mathrm{d}r\\ u(r)4\\pi r^2}}$\n",
    "to add a tail contribution to correct $U$.\n",
    "\n",
    "For the very important case of Coulomb and dipolar interactions, the tail correction diverges and hence the nearest-image convention cannot be used for such systems."
   ]
  },
  {
   "cell_type": "markdown",
   "metadata": {},
   "source": [
    "## Often used methods to truncate the potential"
   ]
  },
  {
   "cell_type": "markdown",
   "metadata": {},
   "source": [
    "### Simple truncation\n",
    "\n",
    "$u^\\mathrm{trunc}(r)=\\begin{cases}\n",
    "    u^\\mathrm{lj}(r), & r\\leq r_c\\\\\n",
    "    0, & r\\gt r_c \\end{cases}$\n",
    "\n",
    "Not particularly suitable for Molecular Dynamics, but can be used in Monte Carlo."
   ]
  },
  {
   "cell_type": "markdown",
   "metadata": {},
   "source": [
    "### Thuncated and Shifted\n",
    "\n",
    "$u^\\mathrm{tr-sh}=\\begin{cases}\n",
    "u^\\mathrm{lj}(r)-u^\\mathrm{lj}(r_c), & r\\leq r_c\\\\\n",
    "0, & r\\gt r_c\\end{cases}$"
   ]
  },
  {
   "cell_type": "markdown",
   "metadata": {},
   "source": [
    "### Minimum Image Convention"
   ]
  },
  {
   "cell_type": "code",
   "execution_count": null,
   "metadata": {
    "collapsed": true
   },
   "outputs": [],
   "source": []
  }
 ],
 "metadata": {
  "kernelspec": {
   "display_name": "Python 3",
   "language": "python",
   "name": "python3"
  },
  "language_info": {
   "codemirror_mode": {
    "name": "ipython",
    "version": 3
   },
   "file_extension": ".py",
   "mimetype": "text/x-python",
   "name": "python",
   "nbconvert_exporter": "python",
   "pygments_lexer": "ipython3",
   "version": "3.4.3"
  }
 },
 "nbformat": 4,
 "nbformat_minor": 0
}
